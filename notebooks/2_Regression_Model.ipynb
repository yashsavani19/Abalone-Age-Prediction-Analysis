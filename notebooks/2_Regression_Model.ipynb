{
 "cells": [
  {
   "cell_type": "markdown",
   "metadata": {},
   "source": [
    "# Fitting a linear model predicting rings using only the variables: Sex (as a factor) and Whole Weight "
   ]
  },
  {
   "cell_type": "markdown",
   "metadata": {},
   "source": [
    "## Preparing the Data\n"
   ]
  },
  {
   "cell_type": "code",
   "execution_count": 176,
   "metadata": {},
   "outputs": [],
   "source": [
    "import pandas as pd\n",
    "import numpy as np\n",
    "import matplotlib.pyplot as plt\n",
    "import warnings\n",
    "import seaborn as sns\n",
    "\n",
    "warnings.filterwarnings('ignore')\n",
    "\n",
    "data = pd.read_csv('../data/processed/abalone.csv')\n",
    "\n"
   ]
  },
  {
   "cell_type": "markdown",
   "metadata": {},
   "source": [
    "## Fitting the Linear Model"
   ]
  },
  {
   "cell_type": "code",
   "execution_count": 177,
   "metadata": {},
   "outputs": [
    {
     "name": "stdout",
     "output_type": "stream",
     "text": [
      "                            OLS Regression Results                            \n",
      "==============================================================================\n",
      "Dep. Variable:                  Rings   R-squared:                       0.352\n",
      "Model:                            OLS   Adj. R-squared:                  0.351\n",
      "Method:                 Least Squares   F-statistic:                     452.8\n",
      "Date:                Fri, 11 Apr 2025   Prob (F-statistic):               0.00\n",
      "Time:                        13:35:01   Log-Likelihood:                -9895.5\n",
      "No. Observations:                4172   AIC:                         1.980e+04\n",
      "Df Residuals:                    4166   BIC:                         1.984e+04\n",
      "Df Model:                           5                                         \n",
      "Covariance Type:            nonrobust                                         \n",
      "=================================================================================================\n",
      "                                    coef    std err          t      P>|t|      [0.025      0.975]\n",
      "-------------------------------------------------------------------------------------------------\n",
      "Intercept                         9.1216      0.189     48.273      0.000       8.751       9.492\n",
      "C(Sex)[T.I]                      -3.8558      0.228    -16.877      0.000      -4.304      -3.408\n",
      "C(Sex)[T.M]                      -0.7999      0.244     -3.272      0.001      -1.279      -0.321\n",
      "Q(\"Whole weight\")                 1.9201      0.167     11.501      0.000       1.593       2.247\n",
      "C(Sex)[T.I]:Q(\"Whole weight\")     4.1720      0.299     13.960      0.000       3.586       4.758\n",
      "C(Sex)[T.M]:Q(\"Whole weight\")     0.4866      0.219      2.224      0.026       0.058       0.916\n",
      "==============================================================================\n",
      "Omnibus:                     1343.751   Durbin-Watson:                   1.091\n",
      "Prob(Omnibus):                  0.000   Jarque-Bera (JB):             4502.894\n",
      "Skew:                           1.621   Prob(JB):                         0.00\n",
      "Kurtosis:                       6.924   Cond. No.                         17.7\n",
      "==============================================================================\n",
      "\n",
      "Notes:\n",
      "[1] Standard Errors assume that the covariance matrix of the errors is correctly specified.\n"
     ]
    }
   ],
   "source": [
    "# Fitting the Linear Model\n",
    "\n",
    "import statsmodels.formula.api as smf\n",
    "\n",
    "# Fit the model\n",
    "model_interact = smf.ols(formula='Rings ~ C(Sex) * Q(\"Whole weight\")', data=data).fit()\n",
    "\n",
    "# Print the model summary\n",
    "print(model_interact.summary())"
   ]
  },
  {
   "cell_type": "markdown",
   "metadata": {},
   "source": [
    "## 1d. Comments\n",
    "\n",
    "### Key Statistics  \n",
    "- **R-squared**: 0.352, meaning 35.2% of variation in Rings explained  \n",
    "- **F-statistic**: 452.8 (p < 0.001) → the model explains variance in Rings 452.8 times better than a model with no predictors, indicating a strong significance overall  \n",
    "- **Residuals**: Skew = 1.62, Kurtosis = 6.92 shows that model is not perfectly normal but acceptable due to large sample size  \n",
    "\n",
    "### Coefficients  \n",
    "- **Females**: Intercept = 9.12, Slope = 1.92  \n",
    "- **Infants**: Intercept = 5.27, Slope = 6.09  \n",
    "- **Males**: Intercept = 8.32, Slope = 2.41  \n",
    "\n",
    "### Significance  \n",
    "- All coefficients (main and interaction terms) have p < 0.05, meaning all variables are significant  \n",
    "\n",
    "### Interpretation  \n",
    "- Slopes and intercepts differ by sex  \n",
    "- Whole Weight has a strong effect on Rings  \n",
    "- Infants show the steepest increase in Rings with weight  \n"
   ]
  },
  {
   "cell_type": "markdown",
   "metadata": {},
   "source": []
  },
  {
   "cell_type": "markdown",
   "metadata": {},
   "source": [
    "# Fitting a linear model with all the original variables, (without transforming predictors and without interactions)"
   ]
  },
  {
   "cell_type": "code",
   "execution_count": 178,
   "metadata": {},
   "outputs": [
    {
     "name": "stdout",
     "output_type": "stream",
     "text": [
      "                            OLS Regression Results                            \n",
      "==============================================================================\n",
      "Dep. Variable:                  Rings   R-squared:                       0.543\n",
      "Model:                            OLS   Adj. R-squared:                  0.542\n",
      "Method:                 Least Squares   F-statistic:                     549.8\n",
      "Date:                Fri, 11 Apr 2025   Prob (F-statistic):               0.00\n",
      "Time:                        13:35:01   Log-Likelihood:                -9166.7\n",
      "No. Observations:                4172   AIC:                         1.835e+04\n",
      "Df Residuals:                    4162   BIC:                         1.842e+04\n",
      "Df Model:                           9                                         \n",
      "Covariance Type:            nonrobust                                         \n",
      "=======================================================================================\n",
      "                          coef    std err          t      P>|t|      [0.025      0.975]\n",
      "---------------------------------------------------------------------------------------\n",
      "Intercept               3.5967      0.295     12.188      0.000       3.018       4.175\n",
      "C(Sex)[T.I]            -0.7907      0.102     -7.760      0.000      -0.991      -0.591\n",
      "C(Sex)[T.M]             0.0554      0.083      0.669      0.504      -0.107       0.218\n",
      "Length                 -1.2092      1.802     -0.671      0.502      -4.742       2.323\n",
      "Diameter                9.1546      2.228      4.109      0.000       4.786      13.523\n",
      "Height                 23.4045      2.306     10.149      0.000      18.883      27.926\n",
      "Q(\"Whole weight\")       8.8133      0.726     12.132      0.000       7.389      10.238\n",
      "Q(\"Shucked weight\")   -19.3398      0.818    -23.650      0.000     -20.943     -17.737\n",
      "Q(\"Viscera weight\")   -11.0747      1.290     -8.583      0.000     -13.604      -8.545\n",
      "Q(\"Shell weight\")       7.7820      1.145      6.799      0.000       5.538      10.026\n",
      "==============================================================================\n",
      "Omnibus:                      941.669   Durbin-Watson:                   1.443\n",
      "Prob(Omnibus):                  0.000   Jarque-Bera (JB):             2582.862\n",
      "Skew:                           1.192   Prob(JB):                         0.00\n",
      "Kurtosis:                       6.030   Cond. No.                         138.\n",
      "==============================================================================\n",
      "\n",
      "Notes:\n",
      "[1] Standard Errors assume that the covariance matrix of the errors is correctly specified.\n"
     ]
    }
   ],
   "source": [
    "import statsmodels.formula.api as smf\n",
    "\n",
    "#Our Predictors are Sex, Length, Diameter, Height, Whole weight, Shucked weight, Viscera weight and Shell weight\n",
    "# Fit the original model using all original predictors\n",
    "model_original = smf.ols(\n",
    "    formula='Rings ~ C(Sex) + Length + Diameter + Height + Q(\"Whole weight\") + Q(\"Shucked weight\") + Q(\"Viscera weight\") + Q(\"Shell weight\")',\n",
    "    data=data\n",
    ").fit()\n",
    "\n",
    "# Display the model summary\n",
    "print(model_original.summary())"
   ]
  },
  {
   "cell_type": "markdown",
   "metadata": {},
   "source": [
    "## 1e. Comments\n",
    "\n",
    "### Key Statistics\n",
    "- **R-squared**: 0.543, meaning that the model explains 54.3% of variation in Rings\n",
    "- **Residuals**: Skew = 1.19, Kurtosis = 6.03, which is slightly non-normal, however acceptable due to large sample size  \n",
    "\n",
    "### Coefficients\n",
    "- **Length** has a negative coefficient, which is likely multicollinearity with Diameter  \n",
    "- **C(Sex)[T.M]** and **Length** are not significant (p > 0.05)  \n",
    "- **Whole Weight** is positive, but **Shucked** and **Viscera Weights** are negative  \n",
    "\n",
    "### Interpretation\n",
    "- Some predictors behave unexpectedly due to multicollinearity  \n",
    "- Sex contributes very little once physical features are included  \n",
    "- Males and Females have similar predicted Rings in this model  \n",
    "\n",
    "### Visual Interpretation\n",
    "- Predicted values are centered well (esp. 8–12 rings range)  \n",
    "- Distribution is narrower and more peaked than actual values  \n",
    "- Model underestimates variability and misses high-end extremes  "
   ]
  },
  {
   "cell_type": "markdown",
   "metadata": {},
   "source": [
    "\n"
   ]
  },
  {
   "cell_type": "markdown",
   "metadata": {},
   "source": [
    "# Fitting the model after PCA"
   ]
  },
  {
   "cell_type": "code",
   "execution_count": null,
   "metadata": {},
   "outputs": [],
   "source": [
    "from sklearn.preprocessing import StandardScaler\n",
    "from sklearn.decomposition import PCA"
   ]
  },
  {
   "cell_type": "markdown",
   "metadata": {},
   "source": [
    "## Transforming the Predictors"
   ]
  },
  {
   "cell_type": "code",
   "execution_count": 180,
   "metadata": {},
   "outputs": [],
   "source": [
    "# Choosing the predictors and target variable\n",
    "features = ['Length', 'Diameter', 'Height', 'Whole weight', 'Shucked weight', 'Viscera weight', 'Shell weight']\n",
    "X = data[features]\n",
    "y = data['Rings'] # Target variable"
   ]
  },
  {
   "cell_type": "code",
   "execution_count": 181,
   "metadata": {},
   "outputs": [],
   "source": [
    "# Standardizing the features\n",
    "scaler = StandardScaler()\n",
    "X_scaled = scaler.fit_transform(X)"
   ]
  },
  {
   "cell_type": "markdown",
   "metadata": {},
   "source": [
    "## Applying PCA and choosing PCs"
   ]
  },
  {
   "cell_type": "code",
   "execution_count": 182,
   "metadata": {},
   "outputs": [],
   "source": [
    "#Performing PCA\n",
    "\n",
    "pca = PCA()\n",
    "\n",
    "X_pca = pca.fit_transform(X_scaled)"
   ]
  },
  {
   "cell_type": "code",
   "execution_count": 183,
   "metadata": {},
   "outputs": [
    {
     "name": "stdout",
     "output_type": "stream",
     "text": [
      "Explained variance by the first 1 components: 92.45%\n",
      "Explained variance by the first 2 components: 95.50%\n",
      "Explained variance by the first 3 components: 97.49%\n",
      "Explained variance by the first 4 components: 98.81%\n",
      "Explained variance by the first 5 components: 99.72%\n",
      "Explained variance by the first 6 components: 99.91%\n",
      "Explained variance by the first 7 components: 100.00%\n"
     ]
    }
   ],
   "source": [
    "# Explained variance ratios, to choose PCs\n",
    "explained_variance = np.cumsum(pca.explained_variance_ratio_)\n",
    "\n",
    "for i in range(1, len(explained_variance)+1):\n",
    "    print(f\"Explained variance by the first {i} components: {explained_variance[i-1]*100:.2f}%\")"
   ]
  },
  {
   "cell_type": "markdown",
   "metadata": {},
   "source": [
    "**Comment**\n",
    "\n",
    "We can see that based on the explained variance, we select the 1st **2 PCs** for our modelling, as they capture **over 95% of variance** in data, which is more than enough for dimensionality reduction."
   ]
  },
  {
   "cell_type": "markdown",
   "metadata": {},
   "source": [
    "## Fitting Linear Regression Model with 2 PCs"
   ]
  },
  {
   "cell_type": "code",
   "execution_count": 184,
   "metadata": {},
   "outputs": [
    {
     "name": "stdout",
     "output_type": "stream",
     "text": [
      "                            OLS Regression Results                            \n",
      "==============================================================================\n",
      "Dep. Variable:                  Rings   R-squared:                       0.409\n",
      "Model:                            OLS   Adj. R-squared:                  0.408\n",
      "Method:                 Least Squares   F-statistic:                     1440.\n",
      "Date:                Fri, 11 Apr 2025   Prob (F-statistic):               0.00\n",
      "Time:                        13:35:01   Log-Likelihood:                -9705.1\n",
      "No. Observations:                4172   AIC:                         1.942e+04\n",
      "Df Residuals:                    4169   BIC:                         1.944e+04\n",
      "Df Model:                           2                                         \n",
      "Covariance Type:            nonrobust                                         \n",
      "==============================================================================\n",
      "                 coef    std err          t      P>|t|      [0.025      0.975]\n",
      "------------------------------------------------------------------------------\n",
      "const          9.9377      0.038    258.978      0.000       9.862      10.013\n",
      "x1             0.7205      0.015     47.767      0.000       0.691       0.750\n",
      "x2             2.0337      0.083     24.478      0.000       1.871       2.197\n",
      "==============================================================================\n",
      "Omnibus:                     1301.067   Durbin-Watson:                   1.072\n",
      "Prob(Omnibus):                  0.000   Jarque-Bera (JB):             4150.512\n",
      "Skew:                           1.587   Prob(JB):                         0.00\n",
      "Kurtosis:                       6.715   Cond. No.                         5.51\n",
      "==============================================================================\n",
      "\n",
      "Notes:\n",
      "[1] Standard Errors assume that the covariance matrix of the errors is correctly specified.\n"
     ]
    }
   ],
   "source": [
    "import statsmodels.api as sm\n",
    "\n",
    "# PCA with 2 components\n",
    "X_pca_reduced = X_pca[:, :2]  \n",
    "X_with_const = sm.add_constant(X_pca_reduced)\n",
    "model = sm.OLS(y, X_with_const).fit()\n",
    "print(model.summary())"
   ]
  },
  {
   "cell_type": "code",
   "execution_count": 185,
   "metadata": {},
   "outputs": [],
   "source": [
    "# Perform PCA\n",
    "from sklearn.decomposition import PCA\n",
    "pca = PCA(n_components=2)\n",
    "X_pca_2 = pca.fit_transform(X_scaled)  # Make sure X_scaled is your standardized data\n"
   ]
  },
  {
   "cell_type": "code",
   "execution_count": 186,
   "metadata": {},
   "outputs": [
    {
     "data": {
      "image/png": "[encoded data removed]",
      "text/plain": [
       "<Figure size 2100x300 with 3 Axes>"
      ]
     },
     "metadata": {},
     "output_type": "display_data"
    }
   ],
   "source": [
    "# Visually comparing the PCA model and the original model with the actual data\n",
    "y = data['Rings']\n",
    "y_pred_pca = model.predict(X_with_const)\n",
    "plt.figure(figsize=(21, 3))\n",
    "\n",
    "# Histogram of actual vs predicted rings from PCA model\n",
    "plt.subplot(1, 3, 1)\n",
    "sns.histplot(y, bins=30, color='blue', label='Actual Rings', kde=True, stat='density', alpha=0.5)\n",
    "sns.histplot(y_pred_pca, bins=30, color='orange', label='Predicted Rings (PCA)', kde=True, stat='density', alpha=0.5)\n",
    "plt.title('Actual Rings vs PCA Predictions')\n",
    "plt.xlabel('Rings')\n",
    "plt.ylabel('Density')\n",
    "plt.legend()\n",
    "\n",
    "#Histogram of predicted rings from both models\n",
    "plt.subplot(1, 3, 2)\n",
    "sns.histplot(y_pred_original, bins=30, color='blue', label='Predicted Rings (Original Model)', kde=True, stat='density', alpha=0.5)\n",
    "sns.histplot(y_pred_pca, bins=30, color='orange', label='Predicted Rings (PCA)', kde=True, stat='density', alpha=0.5)\n",
    "plt.title('Original Model Predictions vs PCA Predictions')\n",
    "plt.xlabel('Rings')\n",
    "plt.ylabel('Density')\n",
    "plt.legend()\n",
    "\n",
    "# Histogram of actual vs predicted rings from both models\n",
    "plt.subplot(1, 3, 3)\n",
    "sns.histplot(y, bins=30, color='blue', label='Actual Rings', kde=True, stat='density', alpha=0.5)\n",
    "sns.histplot(y_pred_original, bins=30, color='red', label='Predicted Rings (Original Model)', kde=True, stat='density', alpha=0.5)\n",
    "sns.histplot(y_pred_pca, bins=30, color='green', label='Predicted Rings (PCA)', kde=True, stat='density', alpha=0.5)\n",
    "plt.title('Actual Rings vs Original Model Predictions vs PCA Predictions')\n",
    "plt.xlabel('Rings')\n",
    "plt.ylabel('Density')\n",
    "plt.legend()\n",
    "\n",
    "\n",
    "plt.tight_layout()\n",
    "\n"
   ]
  },
  {
   "cell_type": "markdown",
   "metadata": {},
   "source": [
    "## 1f. Comments\n",
    "\n",
    "### Key Statistics\n",
    "- **R-squared**: 0.409, meaning model explains 40.9% of variation in Rings  \n",
    "- **Residuals**: Skew = 1.59, Kurtosis = 6.72 which shows non-normality, but is acceptable for large dataset  \n",
    "\n",
    "### Coefficient Observations\n",
    "- **PC1** and **PC2** are both statistically significant (p < 0.0001)  \n",
    "- **PC2** has a larger impact (coef = 2.03) than **PC1** (coef = 0.72)  \n",
    "\n",
    "### Visual Interpretation\n",
    "- Predicted distribution is narrower, more peaked, and right-skewed  \n",
    "- PCA model underestimates variability and misses extreme values  \n",
    "- Original model predictions better align with actual values  \n",
    "\n",
    "### Comparing PCA Prediction Model vs Original Prediction Model\n",
    "\n",
    "- **PCA model**: R² = 0.409, which is less accurate than original model (R² = 0.543)  \n",
    "- **Original model** predictions align more closely with actual Rings  \n",
    "- **PCA** removes multicollinearity, which improves model stability  \n",
    "- **PCA** reduces interpretability, which means PCs are not easily explained  \n",
    "- **PCA predictions** are more concentrated and miss extreme values  \n",
    "- **Original model** shows better variability and generalization  \n",
    "\n"
   ]
  },
  {
   "cell_type": "markdown",
   "metadata": {},
   "source": [
    "# Predicting Data using PCA Model"
   ]
  },
  {
   "cell_type": "code",
   "execution_count": 187,
   "metadata": {},
   "outputs": [
    {
     "name": "stdout",
     "output_type": "stream",
     "text": [
      "Predicted number of rings: 9.95\n"
     ]
    }
   ],
   "source": [
    "prediction_data = pd.DataFrame([{\n",
    "    'Length': 0.52,\n",
    "    'Diameter': 0.41,\n",
    "    'Height': 0.14,\n",
    "    'Whole weight': 0.83,\n",
    "    'Shucked weight': 0.36,\n",
    "    'Viscera weight': 0.18,\n",
    "    'Shell weight': 0.24\n",
    "}])\n",
    "\n",
    "new_scaled = scaler.transform(prediction_data)\n",
    "new_pca = pca.transform(new_scaled)[:, :2]\n",
    "new_with_const = sm.add_constant(new_pca, has_constant='add')\n",
    "predicted_rings = model.predict(new_with_const)\n",
    "\n",
    "print(f\"Predicted number of rings: {predicted_rings[0]:.2f}\")\n"
   ]
  },
  {
   "cell_type": "code",
   "execution_count": null,
   "metadata": {},
   "outputs": [
    {
     "data": {
      "text/html": [
       "<div>\n",
       "<style scoped>\n",
       "    .dataframe tbody tr th:only-of-type {\n",
       "        vertical-align: middle;\n",
       "    }\n",
       "\n",
       "    .dataframe tbody tr th {\n",
       "        vertical-align: top;\n",
       "    }\n",
       "\n",
       "    .dataframe thead th {\n",
       "        text-align: right;\n",
       "    }\n",
       "</style>\n",
       "<table border=\"1\" class=\"dataframe\">\n",
       "  <thead>\n",
       "    <tr style=\"text-align: right;\">\n",
       "      <th></th>\n",
       "      <th>Length</th>\n",
       "      <th>Diameter</th>\n",
       "      <th>Height</th>\n",
       "      <th>Whole weight</th>\n",
       "      <th>Shucked weight</th>\n",
       "      <th>Viscera weight</th>\n",
       "      <th>Shell weight</th>\n",
       "      <th>Rings</th>\n",
       "    </tr>\n",
       "  </thead>\n",
       "  <tbody>\n",
       "    <tr>\n",
       "      <th>count</th>\n",
       "      <td>4172.000000</td>\n",
       "      <td>4172.000000</td>\n",
       "      <td>4172.000000</td>\n",
       "      <td>4172.000000</td>\n",
       "      <td>4172.000000</td>\n",
       "      <td>4172.000000</td>\n",
       "      <td>4172.000000</td>\n",
       "      <td>4172.000000</td>\n",
       "    </tr>\n",
       "    <tr>\n",
       "      <th>mean</th>\n",
       "      <td>0.524145</td>\n",
       "      <td>0.408000</td>\n",
       "      <td>0.139287</td>\n",
       "      <td>0.828928</td>\n",
       "      <td>0.359390</td>\n",
       "      <td>0.180638</td>\n",
       "      <td>0.238850</td>\n",
       "      <td>9.937680</td>\n",
       "    </tr>\n",
       "    <tr>\n",
       "      <th>std</th>\n",
       "      <td>0.119873</td>\n",
       "      <td>0.099072</td>\n",
       "      <td>0.038330</td>\n",
       "      <td>0.489878</td>\n",
       "      <td>0.221662</td>\n",
       "      <td>0.109502</td>\n",
       "      <td>0.139140</td>\n",
       "      <td>3.222278</td>\n",
       "    </tr>\n",
       "    <tr>\n",
       "      <th>min</th>\n",
       "      <td>0.110000</td>\n",
       "      <td>0.090000</td>\n",
       "      <td>0.015000</td>\n",
       "      <td>0.008000</td>\n",
       "      <td>0.002500</td>\n",
       "      <td>0.000500</td>\n",
       "      <td>0.003000</td>\n",
       "      <td>2.000000</td>\n",
       "    </tr>\n",
       "    <tr>\n",
       "      <th>25%</th>\n",
       "      <td>0.450000</td>\n",
       "      <td>0.350000</td>\n",
       "      <td>0.115000</td>\n",
       "      <td>0.442375</td>\n",
       "      <td>0.186375</td>\n",
       "      <td>0.093500</td>\n",
       "      <td>0.130000</td>\n",
       "      <td>8.000000</td>\n",
       "    </tr>\n",
       "    <tr>\n",
       "      <th>50%</th>\n",
       "      <td>0.545000</td>\n",
       "      <td>0.425000</td>\n",
       "      <td>0.140000</td>\n",
       "      <td>0.800000</td>\n",
       "      <td>0.336000</td>\n",
       "      <td>0.171000</td>\n",
       "      <td>0.234000</td>\n",
       "      <td>9.000000</td>\n",
       "    </tr>\n",
       "    <tr>\n",
       "      <th>75%</th>\n",
       "      <td>0.615000</td>\n",
       "      <td>0.480000</td>\n",
       "      <td>0.165000</td>\n",
       "      <td>1.153250</td>\n",
       "      <td>0.502000</td>\n",
       "      <td>0.253000</td>\n",
       "      <td>0.328625</td>\n",
       "      <td>11.000000</td>\n",
       "    </tr>\n",
       "    <tr>\n",
       "      <th>max</th>\n",
       "      <td>0.815000</td>\n",
       "      <td>0.650000</td>\n",
       "      <td>0.250000</td>\n",
       "      <td>2.825500</td>\n",
       "      <td>1.488000</td>\n",
       "      <td>0.760000</td>\n",
       "      <td>1.005000</td>\n",
       "      <td>29.000000</td>\n",
       "    </tr>\n",
       "  </tbody>\n",
       "</table>\n",
       "</div>"
      ],
      "text/plain": [
       "            Length     Diameter       Height  Whole weight  Shucked weight  \\\n",
       "count  4172.000000  4172.000000  4172.000000   4172.000000     4172.000000   \n",
       "mean      0.524145     0.408000     0.139287      0.828928        0.359390   \n",
       "std       0.119873     0.099072     0.038330      0.489878        0.221662   \n",
       "min       0.110000     0.090000     0.015000      0.008000        0.002500   \n",
       "25%       0.450000     0.350000     0.115000      0.442375        0.186375   \n",
       "50%       0.545000     0.425000     0.140000      0.800000        0.336000   \n",
       "75%       0.615000     0.480000     0.165000      1.153250        0.502000   \n",
       "max       0.815000     0.650000     0.250000      2.825500        1.488000   \n",
       "\n",
       "       Viscera weight  Shell weight        Rings  \n",
       "count     4172.000000   4172.000000  4172.000000  \n",
       "mean         0.180638      0.238850     9.937680  \n",
       "std          0.109502      0.139140     3.222278  \n",
       "min          0.000500      0.003000     2.000000  \n",
       "25%          0.093500      0.130000     8.000000  \n",
       "50%          0.171000      0.234000     9.000000  \n",
       "75%          0.253000      0.328625    11.000000  \n",
       "max          0.760000      1.005000    29.000000  "
      ]
     },
     "execution_count": 190,
     "metadata": {},
     "output_type": "execute_result"
    }
   ],
   "source": [
    "data.describe()"
   ]
  },
  {
   "cell_type": "markdown",
   "metadata": {},
   "source": [
    "### 1g. Interpretation:\n",
    "- Input values are almost the mean for all predictors, indicating that we are predicting an average-aged abalone\n",
    "- Predicted rings: **9.95**, which is very close to the dataset mean of **9.94**, indicating that the model predicted the average rings well\n",
    "- The PCA model explains **40.9%** of the variance, so the prediction is moderately reliable"
   ]
  },
  {
   "cell_type": "markdown",
   "metadata": {},
   "source": []
  }
 ],
 "metadata": {
  "kernelspec": {
   "display_name": ".venv",
   "language": "python",
   "name": "python3"
  },
  "language_info": {
   "codemirror_mode": {
    "name": "ipython",
    "version": 3
   },
   "file_extension": ".py",
   "mimetype": "text/x-python",
   "name": "python",
   "nbconvert_exporter": "python",
   "pygments_lexer": "ipython3",
   "version": "3.11.9"
  }
 },
 "nbformat": 4,
 "nbformat_minor": 2
}
