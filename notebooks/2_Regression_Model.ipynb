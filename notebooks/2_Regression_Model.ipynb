{
 "cells": [
  {
   "cell_type": "markdown",
   "metadata": {},
   "source": [
    "# Fitting a linear model predicting rings using only the variables: Sex (as a factor) and Whole Weight "
   ]
  },
  {
   "cell_type": "markdown",
   "metadata": {},
   "source": [
    "## Preparing the Data\n"
   ]
  },
  {
   "cell_type": "code",
   "execution_count": 3,
   "metadata": {},
   "outputs": [],
   "source": [
    "import pandas as pd\n",
    "\n",
    "data = pd.read_csv('../data/processed/abalone.csv')\n",
    "\n"
   ]
  },
  {
   "cell_type": "code",
   "execution_count": 4,
   "metadata": {},
   "outputs": [
    {
     "name": "stdout",
     "output_type": "stream",
     "text": [
      "['M', 'F', 'I']\n",
      "Categories (3, object): ['F', 'I', 'M']\n"
     ]
    }
   ],
   "source": [
    "#Converting Sex to Categorical Variable\n",
    "data['Sex'] = data['Sex'].map({0 : 'M', 1 : 'F', 2 : 'I'})\n",
    "\n",
    "\n",
    "data['Sex'] = data['Sex'].astype('category')\n",
    "print(data['Sex'].unique())"
   ]
  },
  {
   "cell_type": "code",
   "execution_count": 9,
   "metadata": {},
   "outputs": [
    {
     "name": "stdout",
     "output_type": "stream",
     "text": [
      "                            OLS Regression Results                            \n",
      "==============================================================================\n",
      "Dep. Variable:                  Rings   R-squared:                       0.352\n",
      "Model:                            OLS   Adj. R-squared:                  0.351\n",
      "Method:                 Least Squares   F-statistic:                     452.8\n",
      "Date:                Fri, 28 Mar 2025   Prob (F-statistic):               0.00\n",
      "Time:                        15:34:52   Log-Likelihood:                -9895.5\n",
      "No. Observations:                4172   AIC:                         1.980e+04\n",
      "Df Residuals:                    4166   BIC:                         1.984e+04\n",
      "Df Model:                           5                                         \n",
      "Covariance Type:            nonrobust                                         \n",
      "=================================================================================================\n",
      "                                    coef    std err          t      P>|t|      [0.025      0.975]\n",
      "-------------------------------------------------------------------------------------------------\n",
      "Intercept                         9.1216      0.189     48.273      0.000       8.751       9.492\n",
      "C(Sex)[T.I]                      -3.8558      0.228    -16.877      0.000      -4.304      -3.408\n",
      "C(Sex)[T.M]                      -0.7999      0.244     -3.272      0.001      -1.279      -0.321\n",
      "Q(\"Whole weight\")                 1.9201      0.167     11.501      0.000       1.593       2.247\n",
      "C(Sex)[T.I]:Q(\"Whole weight\")     4.1720      0.299     13.960      0.000       3.586       4.758\n",
      "C(Sex)[T.M]:Q(\"Whole weight\")     0.4866      0.219      2.224      0.026       0.058       0.916\n",
      "==============================================================================\n",
      "Omnibus:                     1343.751   Durbin-Watson:                   1.091\n",
      "Prob(Omnibus):                  0.000   Jarque-Bera (JB):             4502.894\n",
      "Skew:                           1.621   Prob(JB):                         0.00\n",
      "Kurtosis:                       6.924   Cond. No.                         17.7\n",
      "==============================================================================\n",
      "\n",
      "Notes:\n",
      "[1] Standard Errors assume that the covariance matrix of the errors is correctly specified.\n"
     ]
    }
   ],
   "source": [
    "# Fitting the Linear Model\n",
    "\n",
    "import statsmodels.formula.api as smf\n",
    "model_interact = smf.ols(formula='Rings ~ C(Sex) * Q(\"Whole weight\")', data=data).fit()\n",
    "\n",
    "print(model_interact.summary())"
   ]
  },
  {
   "cell_type": "code",
   "execution_count": null,
   "metadata": {},
   "outputs": [],
   "source": []
  }
 ],
 "metadata": {
  "kernelspec": {
   "display_name": ".venv",
   "language": "python",
   "name": "python3"
  },
  "language_info": {
   "codemirror_mode": {
    "name": "ipython",
    "version": 3
   },
   "file_extension": ".py",
   "mimetype": "text/x-python",
   "name": "python",
   "nbconvert_exporter": "python",
   "pygments_lexer": "ipython3",
   "version": "3.11.9"
  }
 },
 "nbformat": 4,
 "nbformat_minor": 2
}
