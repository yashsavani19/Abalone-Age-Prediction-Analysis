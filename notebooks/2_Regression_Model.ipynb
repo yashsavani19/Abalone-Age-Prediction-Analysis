{
 "cells": [
  {
   "cell_type": "markdown",
   "metadata": {},
   "source": [
    "# Fitting a linear model predicting rings using only the variables: Sex (as a factor) and Whole Weight "
   ]
  },
  {
   "cell_type": "markdown",
   "metadata": {},
   "source": [
    "## Preparing the Data\n"
   ]
  },
  {
   "cell_type": "code",
   "execution_count": 3,
   "metadata": {},
   "outputs": [],
   "source": [
    "import pandas as pd\n",
    "\n",
    "data = pd.read_csv('../data/processed/abalone.csv')\n",
    "\n"
   ]
  },
  {
   "cell_type": "code",
   "execution_count": 4,
   "metadata": {},
   "outputs": [
    {
     "name": "stdout",
     "output_type": "stream",
     "text": [
      "['M', 'F', 'I']\n",
      "Categories (3, object): ['F', 'I', 'M']\n"
     ]
    }
   ],
   "source": [
    "#Converting Sex to Categorical Variable\n",
    "data['Sex'] = data['Sex'].map({0 : 'M', 1 : 'F', 2 : 'I'})\n",
    "\n",
    "\n",
    "data['Sex'] = data['Sex'].astype('category')\n",
    "print(data['Sex'].unique())"
   ]
  },
  {
   "cell_type": "markdown",
   "metadata": {},
   "source": [
    "## Fitting the Linear Model"
   ]
  },
  {
   "cell_type": "code",
   "execution_count": 5,
   "metadata": {},
   "outputs": [
    {
     "name": "stdout",
     "output_type": "stream",
     "text": [
      "                            OLS Regression Results                            \n",
      "==============================================================================\n",
      "Dep. Variable:                  Rings   R-squared:                       0.352\n",
      "Model:                            OLS   Adj. R-squared:                  0.351\n",
      "Method:                 Least Squares   F-statistic:                     452.8\n",
      "Date:                Tue, 01 Apr 2025   Prob (F-statistic):               0.00\n",
      "Time:                        17:08:12   Log-Likelihood:                -9895.5\n",
      "No. Observations:                4172   AIC:                         1.980e+04\n",
      "Df Residuals:                    4166   BIC:                         1.984e+04\n",
      "Df Model:                           5                                         \n",
      "Covariance Type:            nonrobust                                         \n",
      "=================================================================================================\n",
      "                                    coef    std err          t      P>|t|      [0.025      0.975]\n",
      "-------------------------------------------------------------------------------------------------\n",
      "Intercept                         9.1216      0.189     48.273      0.000       8.751       9.492\n",
      "C(Sex)[T.I]                      -3.8558      0.228    -16.877      0.000      -4.304      -3.408\n",
      "C(Sex)[T.M]                      -0.7999      0.244     -3.272      0.001      -1.279      -0.321\n",
      "Q(\"Whole weight\")                 1.9201      0.167     11.501      0.000       1.593       2.247\n",
      "C(Sex)[T.I]:Q(\"Whole weight\")     4.1720      0.299     13.960      0.000       3.586       4.758\n",
      "C(Sex)[T.M]:Q(\"Whole weight\")     0.4866      0.219      2.224      0.026       0.058       0.916\n",
      "==============================================================================\n",
      "Omnibus:                     1343.751   Durbin-Watson:                   1.091\n",
      "Prob(Omnibus):                  0.000   Jarque-Bera (JB):             4502.894\n",
      "Skew:                           1.621   Prob(JB):                         0.00\n",
      "Kurtosis:                       6.924   Cond. No.                         17.7\n",
      "==============================================================================\n",
      "\n",
      "Notes:\n",
      "[1] Standard Errors assume that the covariance matrix of the errors is correctly specified.\n"
     ]
    }
   ],
   "source": [
    "# Fitting the Linear Model\n",
    "\n",
    "import statsmodels.formula.api as smf\n",
    "model_interact = smf.ols(formula='Rings ~ C(Sex) * Q(\"Whole weight\")', data=data).fit()\n",
    "\n",
    "print(model_interact.summary())"
   ]
  },
  {
   "cell_type": "markdown",
   "metadata": {},
   "source": [
    "## Comments"
   ]
  },
  {
   "cell_type": "markdown",
   "metadata": {},
   "source": [
    "### Key Statistics\n",
    "- R-Squared is 0.352, meaning about 35.2% of the variation in the Rings is explained by the model\n",
    "- F-Static value is 452.8, with p < 0.001, indicating the significance of the whole model, statistically\n",
    "- Kurtosis being 6.92, and Skew being 1.62, shows that the residuals may not be perfectly normal, but with this large sample size, it isn't too critical\n",
    "\n",
    "### Coefficients\n",
    "Baseline (`Females`)\n",
    "- `Intercept` = `9.1216`\n",
    "- `Slope` = `1.921`\n",
    "\n",
    "`Infants` (I)\n",
    "- `Intercept` = Baseline + Baseline Shift (C(Sex)[T.I]) = 9.1216 - 3.8558 = `5.2658`\n",
    "- `Slope` = Baseline Slope + (C(Sex)[T.I]:Whole weight = 4.1720) = 1.9201 + 4.1720 = `6.0921`\n",
    "    Infants gain about 6.09 rings for each 1-unit increase in whole weight, significantly higher than females\n",
    "\n",
    "`Males` (I)\n",
    "- `Intercept` = Baseline + Baseline Shift (C(Sex)[T.M]) = 9.1216 - 0.7999 = `8.3217`\n",
    "- `Slope` = Baseline Slope + (C(Sex)[T.M]:Whole weight = 0.4866) = 1.9201 + 0.4866 = `2.4067`\n",
    "    Infants gain about 6.09 rings for each 1-unit increase in whole weight, significantly higher than females\n",
    "\n",
    "\n",
    "### Significance\n",
    "- p-values of all the terms (main effects and interactions) is less than 0.05 (p < 0.05), meaning that they are stastically significant\n",
    "\n",
    "### Interpretation\n",
    "- As we can see, sex matters. This is because both Intercept Rings and Slopes differ significantly.\n",
    "- Whole Weight is a strong predictor. This is because Higher whole weight generally correlates with more rings, but the efect   size varies accross sex categories.\n",
    "- There is rapid growth or increase in the rings for Infants. This is because there is much steeper slope for Infants, indicating a rapid increase in rings as weight increases\n",
    "\n",
    "\n",
    "### Conclusion\n",
    "Overall, this regression model explains about 35% of the variation in Rings, indicating that both Sex and Whole weight, along with their interaction, play a significant role in predicting abalone age. Infants begin with a lower baseline number of Rings but show a steep increase in Rings as Whole weight grows, while Males have a moderate slope and Females have the lowest slope but the highest baseline. All coefficients are statistically significant, showing the importance of including Sex and its interaction with Whole weight when modeling Rings."
   ]
  },
  {
   "cell_type": "markdown",
   "metadata": {},
   "source": []
  },
  {
   "cell_type": "markdown",
   "metadata": {},
   "source": [
    "# Fitting a linear model with all the original variables, (without transforming predictors and without interactions)"
   ]
  },
  {
   "cell_type": "code",
   "execution_count": 6,
   "metadata": {},
   "outputs": [
    {
     "name": "stdout",
     "output_type": "stream",
     "text": [
      "                            OLS Regression Results                            \n",
      "==============================================================================\n",
      "Dep. Variable:                  Rings   R-squared:                       0.543\n",
      "Model:                            OLS   Adj. R-squared:                  0.542\n",
      "Method:                 Least Squares   F-statistic:                     549.8\n",
      "Date:                Tue, 01 Apr 2025   Prob (F-statistic):               0.00\n",
      "Time:                        17:08:12   Log-Likelihood:                -9166.7\n",
      "No. Observations:                4172   AIC:                         1.835e+04\n",
      "Df Residuals:                    4162   BIC:                         1.842e+04\n",
      "Df Model:                           9                                         \n",
      "Covariance Type:            nonrobust                                         \n",
      "=======================================================================================\n",
      "                          coef    std err          t      P>|t|      [0.025      0.975]\n",
      "---------------------------------------------------------------------------------------\n",
      "Intercept               3.5967      0.295     12.188      0.000       3.018       4.175\n",
      "C(Sex)[T.I]            -0.7907      0.102     -7.760      0.000      -0.991      -0.591\n",
      "C(Sex)[T.M]             0.0554      0.083      0.669      0.504      -0.107       0.218\n",
      "Length                 -1.2092      1.802     -0.671      0.502      -4.742       2.323\n",
      "Diameter                9.1546      2.228      4.109      0.000       4.786      13.523\n",
      "Height                 23.4045      2.306     10.149      0.000      18.883      27.926\n",
      "Q(\"Whole weight\")       8.8133      0.726     12.132      0.000       7.389      10.238\n",
      "Q(\"Shucked weight\")   -19.3398      0.818    -23.650      0.000     -20.943     -17.737\n",
      "Q(\"Viscera weight\")   -11.0747      1.290     -8.583      0.000     -13.604      -8.545\n",
      "Q(\"Shell weight\")       7.7820      1.145      6.799      0.000       5.538      10.026\n",
      "==============================================================================\n",
      "Omnibus:                      941.669   Durbin-Watson:                   1.443\n",
      "Prob(Omnibus):                  0.000   Jarque-Bera (JB):             2582.862\n",
      "Skew:                           1.192   Prob(JB):                         0.00\n",
      "Kurtosis:                       6.030   Cond. No.                         138.\n",
      "==============================================================================\n",
      "\n",
      "Notes:\n",
      "[1] Standard Errors assume that the covariance matrix of the errors is correctly specified.\n"
     ]
    }
   ],
   "source": [
    "import statsmodels.formula.api as smf\n",
    "\n",
    "\n",
    "#Our Predictors are Sex, Length, Diameter, Height, Whole weight, Shucked weight, Viscera weight and Shell weight\n",
    "# Fit the full model using all original predictors\n",
    "model_full = smf.ols(\n",
    "    formula='Rings ~ C(Sex) + Length + Diameter + Height + Q(\"Whole weight\") + Q(\"Shucked weight\") + Q(\"Viscera weight\") + Q(\"Shell weight\")',\n",
    "    data=data\n",
    ").fit()\n",
    "\n",
    "# Display the model summary\n",
    "print(model_full.summary())"
   ]
  },
  {
   "cell_type": "markdown",
   "metadata": {},
   "source": [
    "### Key Statistics\n",
    "- `R-Squared` is 0.543, meaning about 54.3% of the variation in the Rings is explained by the model, and `Ajusted R-squared` value is 0.542, slightly lower due to multiple predictors.\n",
    "- `F-Static value` is 549.8, with p value being 0.00, indicating the significance of the whole model, statistically\n",
    "- `Kurtosis` being 6.03, and `Skew` being 1.192, shows that the residuals are not be perfectly normal, however with this large sample size isn't too critical.\n",
    "\n",
    "### Coefficient Observations\n",
    "- `Length` also has negative coefficient, likely due to its multicollinearity with `Diameter` (found earlier in th analysis).\n",
    "- C(Sex)[T.M] coefficient is very low, meaning that `Males` have only 0.0554 rings more than `Females`.\n",
    "- We can see that P value for `Length` and `C(Sex)[T.M]` is really high (p > 0.05), and `t` is very low (close to 0)\n",
    "- There are negative coefficients for `Shucked Weight` and `Viscera Weight` but positive coefficient for `Whole Weight`, this is likely due to multicollinearity (found earlier on in the analysis)\n",
    "\n",
    "### Conclusion\n",
    "\n",
    "The multiple regression model fits the data reasonably well, explaining around 54% of the variation in abalone age. Key predictors such as `Height`, `Diameter`, and `Whole Weight` showed strong  relationships with age, aligning with the findings from earlier exploration. However, not all results were accurate. Some predictors like `Length`, `Shucked Weight`, and `Viscera Weight` had **negative or unexpected coefficients**. This is likely due to **multicollinearity**, where predictors are highly correlated with each other, which makes it **difficult for the model to accurately isolate their individual effects**. We also found that males only had 0.554 rings more than the `Females`, which is not statistically significant. This is a much different observation compared to the earlier model (*Fitting Model using `Sex` and `Whole Weight`*), where we found significant difference in slopes and intercepts. This means that when other physical measurements are included (e.g Length, Diameter, etc), **sex of the abalone adds little additional predictive value**, and `Males` and `Females` **would have similar predicted rings**\n",
    "\n"
   ]
  },
  {
   "cell_type": "markdown",
   "metadata": {},
   "source": [
    "\n"
   ]
  }
 ],
 "metadata": {
  "kernelspec": {
   "display_name": ".venv",
   "language": "python",
   "name": "python3"
  },
  "language_info": {
   "codemirror_mode": {
    "name": "ipython",
    "version": 3
   },
   "file_extension": ".py",
   "mimetype": "text/x-python",
   "name": "python",
   "nbconvert_exporter": "python",
   "pygments_lexer": "ipython3",
   "version": "3.11.9"
  }
 },
 "nbformat": 4,
 "nbformat_minor": 2
}
