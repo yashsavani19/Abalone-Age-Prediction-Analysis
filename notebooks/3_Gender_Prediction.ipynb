{
 "cells": [
  {
   "cell_type": "markdown",
   "id": "8ece976c",
   "metadata": {},
   "source": [
    "# Training Model with 70/30 split"
   ]
  },
  {
   "cell_type": "code",
   "execution_count": 1,
   "id": "4e36e29f",
   "metadata": {},
   "outputs": [],
   "source": [
    "import pandas as pd\n",
    "import numpy as np\n",
    "import matplotlib.pyplot as plt\n",
    "import seaborn as sns\n",
    "import warnings\n",
    "warnings.filterwarnings(\"ignore\", category=UserWarning, module=\"matplotlib\")\n",
    "\n",
    "\n",
    "# Load the dataset\n",
    "data = pd.read_csv('../data/processed/abalone.csv')"
   ]
  },
  {
   "cell_type": "markdown",
   "id": "a2401881",
   "metadata": {},
   "source": [
    "## Handling Sex variable"
   ]
  },
  {
   "cell_type": "code",
   "execution_count": 2,
   "id": "2a9f75f2",
   "metadata": {},
   "outputs": [
    {
     "data": {
      "text/plain": [
       "Gender\n",
       "1    0.539005\n",
       "0    0.460995\n",
       "Name: proportion, dtype: float64"
      ]
     },
     "execution_count": 2,
     "metadata": {},
     "output_type": "execute_result"
    }
   ],
   "source": [
    "# Filter out only Male and Female samples\n",
    "data_binary = data[data['Sex'].isin(['M', 'F'])].copy()\n",
    "\n",
    "# Encode: Female = 0, Male = 1\n",
    "data_binary['Gender'] = data_binary['Sex'].map({'F': 0, 'M': 1})\n",
    "\n",
    "# Check distribution\n",
    "data_binary['Gender'].value_counts(normalize=True)\n"
   ]
  },
  {
   "cell_type": "code",
   "execution_count": 3,
   "id": "b0132ba7",
   "metadata": {},
   "outputs": [
    {
     "data": {
      "image/png": "[encoded data removed]",
      "text/plain": [
       "<Figure size 400x300 with 1 Axes>"
      ]
     },
     "metadata": {},
     "output_type": "display_data"
    }
   ],
   "source": [
    "# Plot the count of male and female\n",
    "plt.figure(figsize=(4, 3))\n",
    "sns.countplot(x='Gender', data=data_binary)\n",
    "plt.title('Count of Male and Female')\n",
    "plt.xlabel('Gender (0 = Female, 1 = Male)')\n",
    "plt.ylabel('Count')\n",
    "plt.show()\n"
   ]
  },
  {
   "cell_type": "markdown",
   "id": "bc9d4f34",
   "metadata": {},
   "source": [
    "#### **Comment**\n",
    "\n",
    "Proportions seems to be relatively close to 50-50 for both the genders, therefore methods such as oversampling is not required in this case."
   ]
  },
  {
   "cell_type": "code",
   "execution_count": null,
   "id": "a5cd8dab",
   "metadata": {},
   "outputs": [],
   "source": [
    "from sklearn.model_selection import train_test_split\n",
    "\n",
    "# Drop categorical and target columns not used in predictors\n",
    "X = data_binary.drop(columns=['Sex', 'Gender', 'Rings'])  # use only continuous predictors\n",
    "y = data_binary['Gender']\n",
    "\n",
    "\n",
    "X_train, X_test, y_train, y_test = train_test_split(\n",
    "    X, y, test_size=0.3, random_state=0\n",
    ")"
   ]
  },
  {
   "cell_type": "code",
   "execution_count": null,
   "id": "9116d61f",
   "metadata": {},
   "outputs": [
    {
     "data": {
      "text/html": [
       "<table class=\"simpletable\">\n",
       "<caption>Generalized Linear Model Regression Results</caption>\n",
       "<tr>\n",
       "  <th>Dep. Variable:</th>        <td>Gender</td>      <th>  No. Observations:  </th>  <td>  1983</td> \n",
       "</tr>\n",
       "<tr>\n",
       "  <th>Model:</th>                  <td>GLM</td>       <th>  Df Residuals:      </th>  <td>  1975</td> \n",
       "</tr>\n",
       "<tr>\n",
       "  <th>Model Family:</th>        <td>Binomial</td>     <th>  Df Model:          </th>  <td>     7</td> \n",
       "</tr>\n",
       "<tr>\n",
       "  <th>Link Function:</th>         <td>Logit</td>      <th>  Scale:             </th> <td>  1.0000</td>\n",
       "</tr>\n",
       "<tr>\n",
       "  <th>Method:</th>                <td>IRLS</td>       <th>  Log-Likelihood:    </th> <td> -1338.0</td>\n",
       "</tr>\n",
       "<tr>\n",
       "  <th>Date:</th>            <td>Sat, 12 Apr 2025</td> <th>  Deviance:          </th> <td>  2676.1</td>\n",
       "</tr>\n",
       "<tr>\n",
       "  <th>Time:</th>                <td>16:04:24</td>     <th>  Pearson chi2:      </th> <td>1.98e+03</td>\n",
       "</tr>\n",
       "<tr>\n",
       "  <th>No. Iterations:</th>          <td>4</td>        <th>  Pseudo R-squ. (CS):</th>  <td>0.03342</td>\n",
       "</tr>\n",
       "<tr>\n",
       "  <th>Covariance Type:</th>     <td>nonrobust</td>    <th>                     </th>     <td> </td>   \n",
       "</tr>\n",
       "</table>\n",
       "<table class=\"simpletable\">\n",
       "<tr>\n",
       "           <td></td>              <th>coef</th>     <th>std err</th>      <th>z</th>      <th>P>|z|</th>  <th>[0.025</th>    <th>0.975]</th>  \n",
       "</tr>\n",
       "<tr>\n",
       "  <th>Intercept</th>           <td>    3.4614</td> <td>    0.556</td> <td>    6.223</td> <td> 0.000</td> <td>    2.371</td> <td>    4.552</td>\n",
       "</tr>\n",
       "<tr>\n",
       "  <th>Length</th>              <td>   -2.2739</td> <td>    2.434</td> <td>   -0.934</td> <td> 0.350</td> <td>   -7.044</td> <td>    2.496</td>\n",
       "</tr>\n",
       "<tr>\n",
       "  <th>Diameter</th>            <td>   -5.9516</td> <td>    2.876</td> <td>   -2.069</td> <td> 0.039</td> <td>  -11.589</td> <td>   -0.314</td>\n",
       "</tr>\n",
       "<tr>\n",
       "  <th>Height</th>              <td>   -4.3147</td> <td>    2.863</td> <td>   -1.507</td> <td> 0.132</td> <td>   -9.926</td> <td>    1.296</td>\n",
       "</tr>\n",
       "<tr>\n",
       "  <th>Q(\"Whole weight\")</th>   <td>    0.0521</td> <td>    0.863</td> <td>    0.060</td> <td> 0.952</td> <td>   -1.639</td> <td>    1.743</td>\n",
       "</tr>\n",
       "<tr>\n",
       "  <th>Q(\"Shucked weight\")</th> <td>    3.0240</td> <td>    0.995</td> <td>    3.039</td> <td> 0.002</td> <td>    1.073</td> <td>    4.975</td>\n",
       "</tr>\n",
       "<tr>\n",
       "  <th>Q(\"Viscera weight\")</th> <td>   -0.8637</td> <td>    1.489</td> <td>   -0.580</td> <td> 0.562</td> <td>   -3.782</td> <td>    2.055</td>\n",
       "</tr>\n",
       "<tr>\n",
       "  <th>Q(\"Shell weight\")</th>   <td>    0.2979</td> <td>    1.353</td> <td>    0.220</td> <td> 0.826</td> <td>   -2.354</td> <td>    2.950</td>\n",
       "</tr>\n",
       "</table>"
      ],
      "text/latex": [
       "\\begin{center}\n",
       "\\begin{tabular}{lclc}\n",
       "\\toprule\n",
       "\\textbf{Dep. Variable:}      &      Gender      & \\textbf{  No. Observations:  } &     1983    \\\\\n",
       "\\textbf{Model:}              &       GLM        & \\textbf{  Df Residuals:      } &     1975    \\\\\n",
       "\\textbf{Model Family:}       &     Binomial     & \\textbf{  Df Model:          } &        7    \\\\\n",
       "\\textbf{Link Function:}      &      Logit       & \\textbf{  Scale:             } &    1.0000   \\\\\n",
       "\\textbf{Method:}             &       IRLS       & \\textbf{  Log-Likelihood:    } &   -1338.0   \\\\\n",
       "\\textbf{Date:}               & Sat, 12 Apr 2025 & \\textbf{  Deviance:          } &    2676.1   \\\\\n",
       "\\textbf{Time:}               &     16:04:24     & \\textbf{  Pearson chi2:      } &  1.98e+03   \\\\\n",
       "\\textbf{No. Iterations:}     &        4         & \\textbf{  Pseudo R-squ. (CS):} &  0.03342    \\\\\n",
       "\\textbf{Covariance Type:}    &    nonrobust     & \\textbf{                     } &             \\\\\n",
       "\\bottomrule\n",
       "\\end{tabular}\n",
       "\\begin{tabular}{lcccccc}\n",
       "                             & \\textbf{coef} & \\textbf{std err} & \\textbf{z} & \\textbf{P$> |$z$|$} & \\textbf{[0.025} & \\textbf{0.975]}  \\\\\n",
       "\\midrule\n",
       "\\textbf{Intercept}           &       3.4614  &        0.556     &     6.223  &         0.000        &        2.371    &        4.552     \\\\\n",
       "\\textbf{Length}              &      -2.2739  &        2.434     &    -0.934  &         0.350        &       -7.044    &        2.496     \\\\\n",
       "\\textbf{Diameter}            &      -5.9516  &        2.876     &    -2.069  &         0.039        &      -11.589    &       -0.314     \\\\\n",
       "\\textbf{Height}              &      -4.3147  &        2.863     &    -1.507  &         0.132        &       -9.926    &        1.296     \\\\\n",
       "\\textbf{Q(\"Whole weight\")}   &       0.0521  &        0.863     &     0.060  &         0.952        &       -1.639    &        1.743     \\\\\n",
       "\\textbf{Q(\"Shucked weight\")} &       3.0240  &        0.995     &     3.039  &         0.002        &        1.073    &        4.975     \\\\\n",
       "\\textbf{Q(\"Viscera weight\")} &      -0.8637  &        1.489     &    -0.580  &         0.562        &       -3.782    &        2.055     \\\\\n",
       "\\textbf{Q(\"Shell weight\")}   &       0.2979  &        1.353     &     0.220  &         0.826        &       -2.354    &        2.950     \\\\\n",
       "\\bottomrule\n",
       "\\end{tabular}\n",
       "%\\caption{Generalized Linear Model Regression Results}\n",
       "\\end{center}"
      ],
      "text/plain": [
       "<class 'statsmodels.iolib.summary.Summary'>\n",
       "\"\"\"\n",
       "                 Generalized Linear Model Regression Results                  \n",
       "==============================================================================\n",
       "Dep. Variable:                 Gender   No. Observations:                 1983\n",
       "Model:                            GLM   Df Residuals:                     1975\n",
       "Model Family:                Binomial   Df Model:                            7\n",
       "Link Function:                  Logit   Scale:                          1.0000\n",
       "Method:                          IRLS   Log-Likelihood:                -1338.0\n",
       "Date:                Sat, 12 Apr 2025   Deviance:                       2676.1\n",
       "Time:                        16:04:24   Pearson chi2:                 1.98e+03\n",
       "No. Iterations:                     4   Pseudo R-squ. (CS):            0.03342\n",
       "Covariance Type:            nonrobust                                         \n",
       "=======================================================================================\n",
       "                          coef    std err          z      P>|z|      [0.025      0.975]\n",
       "---------------------------------------------------------------------------------------\n",
       "Intercept               3.4614      0.556      6.223      0.000       2.371       4.552\n",
       "Length                 -2.2739      2.434     -0.934      0.350      -7.044       2.496\n",
       "Diameter               -5.9516      2.876     -2.069      0.039     -11.589      -0.314\n",
       "Height                 -4.3147      2.863     -1.507      0.132      -9.926       1.296\n",
       "Q(\"Whole weight\")       0.0521      0.863      0.060      0.952      -1.639       1.743\n",
       "Q(\"Shucked weight\")     3.0240      0.995      3.039      0.002       1.073       4.975\n",
       "Q(\"Viscera weight\")    -0.8637      1.489     -0.580      0.562      -3.782       2.055\n",
       "Q(\"Shell weight\")       0.2979      1.353      0.220      0.826      -2.354       2.950\n",
       "=======================================================================================\n",
       "\"\"\""
      ]
     },
     "execution_count": 5,
     "metadata": {},
     "output_type": "execute_result"
    }
   ],
   "source": [
    "import statsmodels.api as sm\n",
    "import statsmodels.formula.api as smf\n",
    "\n",
    "\n",
    "train_data = X_train.copy()\n",
    "train_data['Gender'] = y_train\n",
    "\n",
    "# Fit the logistic regression model (binomial family)\n",
    "logit_model = smf.glm(\n",
    "    formula='Gender ~ Length + Diameter + Height + Q(\"Whole weight\") + Q(\"Shucked weight\") + Q(\"Viscera weight\") + Q(\"Shell weight\")',\n",
    "    data=train_data,\n",
    "    family=sm.families.Binomial()\n",
    ").fit()\n",
    "\n",
    "logit_model.summary()\n"
   ]
  },
  {
   "cell_type": "markdown",
   "id": "7d0564aa",
   "metadata": {},
   "source": [
    "## 2a. Comment\n",
    "\n",
    "- **Filtered** to include only Male and Female samples, as original data contained Infants\n",
    "- **Encoded** Gender: Female = 0, Male = 1\n",
    "- **Dropped** 'Sex' and 'Rings' to keep only continuous predictors.\n",
    "- **Checked balance**: There were ~54% Male vs ~46% Female, therefore fair proportions, hence no oversampling needed.\n",
    "- **Split** data, 70% train and 30% test\n",
    "- Finally, **Trained** the model using Logistic Model, using the Binomial Family\n"
   ]
  },
  {
   "cell_type": "code",
   "execution_count": 6,
   "id": "08c2bfe4",
   "metadata": {},
   "outputs": [
    {
     "data": {
      "image/png": "[encoded data removed]",
      "text/plain": [
       "<Figure size 500x400 with 2 Axes>"
      ]
     },
     "metadata": {},
     "output_type": "display_data"
    }
   ],
   "source": [
    "\n",
    "from sklearn.metrics import classification_report, confusion_matrix\n",
    "predictions = logit_model.predict(X_test)\n",
    "\n",
    "# Convert probabilities to binary predictions (0 or 1)\n",
    "predictions_nomial = [0 if x < 0.5 else 1 for x in predictions]\n",
    "\n",
    "cm = confusion_matrix(y_test, predictions_nomial)\n",
    "\n",
    "# Plotting the confusion matrix\n",
    "\n",
    "plt.figure(figsize=(5, 4))\n",
    "sns.heatmap(cm, annot=True, fmt='d', cmap='Blues', xticklabels=['Female', 'Male'], yticklabels=['Female', 'Male'])\n",
    "plt.title('Confusion Matrix')\n",
    "plt.xlabel('Predicted')\n",
    "plt.ylabel('Actual')\n",
    "plt.show()"
   ]
  },
  {
   "cell_type": "code",
   "execution_count": 7,
   "id": "4b3284d3",
   "metadata": {},
   "outputs": [
    {
     "name": "stdout",
     "output_type": "stream",
     "text": [
      "              precision    recall  f1-score   support\n",
      "\n",
      "           0      0.473     0.425     0.448       367\n",
      "           1      0.594     0.640     0.616       483\n",
      "\n",
      "    accuracy                          0.547       850\n",
      "   macro avg      0.533     0.532     0.532       850\n",
      "weighted avg      0.542     0.547     0.543       850\n",
      "\n"
     ]
    }
   ],
   "source": [
    "# Classification report\n",
    "print(classification_report(y_test, predictions_nomial, digits = 3))"
   ]
  },
  {
   "cell_type": "code",
   "execution_count": 8,
   "id": "a9e910d6",
   "metadata": {},
   "outputs": [
    {
     "name": "stdout",
     "output_type": "stream",
     "text": [
      "Accuracy: 54.7%\n",
      "Sensitivity: 64.0%\n",
      "Specificity: 42.5%\n"
     ]
    }
   ],
   "source": [
    "# Accuracy, Sensitivity, Specificity\n",
    "accuracy_percentage = (round(np.sum(np.diagonal(cm)) / np.sum(cm), 3))*100\n",
    "sensitivity_percentage = (round(cm[1, 1] / np.sum(cm[1, :]), 3))*100\n",
    "specificity_percentage = (round(cm[0, 0] / np.sum(cm[0, :]), 3))*100\n",
    "\n",
    "print(f'Accuracy: {accuracy_percentage}%')\n",
    "print(f'Sensitivity: {sensitivity_percentage}%')\n",
    "print(f'Specificity: {specificity_percentage}%')"
   ]
  },
  {
   "cell_type": "markdown",
   "id": "08463bf3",
   "metadata": {},
   "source": [
    "## 2b. Comments\n",
    "- **Accuracy** being 54.7% means that the model was correctly able to predict gender for almost 55% of the abalones\n",
    "- **Sensitivity** being 64% means that model was correctly able to predict 64% of the Male abalones\n",
    "- **Specificity** being 42.5% means that model was correctly able to predict 42.5% of the Female abalones\n",
    "\n",
    "**Interpretation**\n",
    "- The model performed better at predicting Male abalones, than Female abalones, however the overall accuracy is quite low"
   ]
  }
 ],
 "metadata": {
  "kernelspec": {
   "display_name": ".venv",
   "language": "python",
   "name": "python3"
  },
  "language_info": {
   "codemirror_mode": {
    "name": "ipython",
    "version": 3
   },
   "file_extension": ".py",
   "mimetype": "text/x-python",
   "name": "python",
   "nbconvert_exporter": "python",
   "pygments_lexer": "ipython3",
   "version": "3.11.9"
  }
 },
 "nbformat": 4,
 "nbformat_minor": 5
}
